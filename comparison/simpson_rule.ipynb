{
 "cells": [
  {
   "cell_type": "code",
   "execution_count": 5,
   "metadata": {},
   "outputs": [],
   "source": [
    "import numpy as np\n",
    "from scipy.special import gamma"
   ]
  },
  {
   "cell_type": "code",
   "execution_count": 3,
   "metadata": {},
   "outputs": [],
   "source": [
    "def simpsons_rule_fractional(f, a, b, alpha, n):\n",
    "    if n % 2 != 0:\n",
    "        raise ValueError(\"n must be even\")\n",
    "    \n",
    "    h = (b - a) / n\n",
    "    x = np.linspace(a, b, n+1)\n",
    "    y = f(x)\n",
    "    \n",
    "    integral = 0\n",
    "    for k in range(1, n//2 + 1):\n",
    "        t1 = ((2*k-2)*h)**alpha\n",
    "        t2 = ((2*k-1)*h)**alpha\n",
    "        t3 = ((2*k)*h)**alpha\n",
    "        \n",
    "        integral += (t3 - t1) * y[2*k-2] + \\\n",
    "                    4 * (t3 - t2) * y[2*k-1] + \\\n",
    "                    ((t3 - t1) - 4*(t3 - t2)) * y[2*k]\n",
    "    \n",
    "    integral *= h / (3 * gamma(alpha+1))\n",
    "    return integral\n"
   ]
  },
  {
   "cell_type": "code",
   "execution_count": 4,
   "metadata": {},
   "outputs": [
    {
     "name": "stdout",
     "output_type": "stream",
     "text": [
      "Approximate value of the fractional integral using Simpson's rule: 0.00145475824505781\n"
     ]
    }
   ],
   "source": [
    "def f(x):\n",
    "    return x**2  # Example function, you can change this\n",
    "\n",
    "a = 0  # Lower bound\n",
    "b = 1  # Upper bound\n",
    "alpha = 0.5  # Fractional order\n",
    "n = 100  # Number of subintervals (must be even)\n",
    "\n",
    "result = simpsons_rule_fractional(f, a, b, alpha, n)\n",
    "print(f\"Approximate value of the fractional integral using Simpson's rule: {result}\")"
   ]
  }
 ],
 "metadata": {
  "kernelspec": {
   "display_name": "base",
   "language": "python",
   "name": "python3"
  },
  "language_info": {
   "codemirror_mode": {
    "name": "ipython",
    "version": 3
   },
   "file_extension": ".py",
   "mimetype": "text/x-python",
   "name": "python",
   "nbconvert_exporter": "python",
   "pygments_lexer": "ipython3",
   "version": "3.12.3"
  }
 },
 "nbformat": 4,
 "nbformat_minor": 2
}
