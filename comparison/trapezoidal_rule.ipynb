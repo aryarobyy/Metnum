{
 "cells": [
  {
   "cell_type": "code",
   "execution_count": 9,
   "metadata": {},
   "outputs": [],
   "source": [
    "import numpy as np\n",
    "from scipy.special import gamma\n"
   ]
  },
  {
   "cell_type": "code",
   "execution_count": 10,
   "metadata": {},
   "outputs": [],
   "source": [
    "\n",
    "def modified_trapezoidal_rule(f, a, b, alpha, n):\n",
    "    h = (b - a) / n\n",
    "    x = np.linspace(a, b, n+1)\n",
    "    y = f(x)\n",
    "    \n",
    "    integral = 0\n",
    "    for k in range(1, n+1):\n",
    "        integral += ((k*h)**alpha - ((k-1)*h)**alpha) * (y[k] + y[k-1])\n",
    "    \n",
    "    integral *= (h**(1-alpha)) / (2 * gamma(alpha+1))\n",
    "    return integral\n"
   ]
  },
  {
   "cell_type": "code",
   "execution_count": null,
   "metadata": {},
   "outputs": [],
   "source": []
  },
  {
   "cell_type": "code",
   "execution_count": 11,
   "metadata": {},
   "outputs": [
    {
     "name": "stdout",
     "output_type": "stream",
     "text": [
      "Approximate value of the fractional integral: 0.02257046180259437\n"
     ]
    }
   ],
   "source": [
    "\n",
    "def f(x):\n",
    "    return x**2  \n",
    "\n",
    "a = 0  \n",
    "b = 1 \n",
    "alpha = 0.5 \n",
    "n = 100 \n",
    "\n",
    "result = modified_trapezoidal_rule(f, a, b, alpha, n)\n",
    "print(f\"Approximate value of the fractional integral: {result}\")"
   ]
  }
 ],
 "metadata": {
  "kernelspec": {
   "display_name": "Python 3",
   "language": "python",
   "name": "python3"
  },
  "language_info": {
   "codemirror_mode": {
    "name": "ipython",
    "version": 3
   },
   "file_extension": ".py",
   "mimetype": "text/x-python",
   "name": "python",
   "nbconvert_exporter": "python",
   "pygments_lexer": "ipython3",
   "version": "3.12.3"
  }
 },
 "nbformat": 4,
 "nbformat_minor": 2
}
