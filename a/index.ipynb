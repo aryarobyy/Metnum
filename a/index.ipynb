{
 "cells": [
  {
   "cell_type": "markdown",
   "metadata": {},
   "source": [
    "Raiman kiri"
   ]
  },
  {
   "cell_type": "code",
   "execution_count": 9,
   "metadata": {},
   "outputs": [],
   "source": [
    "import numpy as np\n",
    "\n",
    "def riemann_left(f, a, b, n):\n",
    "    \"\"\"\n",
    "    Metode integrasi Riemann kiri\n",
    "    f: fungsi yang akan diintegrasikan\n",
    "    a, b: batas bawah dan atas integral\n",
    "    n: jumlah partisi\n",
    "    \"\"\"\n",
    "    dx = (b - a) / n\n",
    "    x = np.linspace(a, b, n+1)[:-1]  # mengambil titik kiri setiap partisi\n",
    "    return np.sum(f(x) * dx)"
   ]
  },
  {
   "cell_type": "markdown",
   "metadata": {},
   "source": [
    "Rule trapesium"
   ]
  },
  {
   "cell_type": "code",
   "execution_count": 10,
   "metadata": {},
   "outputs": [],
   "source": [
    "def trapezoidal_rule(f, a, b, n):\n",
    "    \"\"\"\n",
    "    Metode integrasi aturan trapesium\n",
    "    f: fungsi yang akan diintegrasikan\n",
    "    a, b: batas bawah dan atas integral\n",
    "    n: jumlah partisi\n",
    "    \"\"\"\n",
    "    dx = (b - a) / n\n",
    "    x = np.linspace(a, b, n+1)\n",
    "    return (dx / 2) * (f(x[0]) + 2 * np.sum(f(x[1:-1])) + f(x[-1]))"
   ]
  },
  {
   "cell_type": "markdown",
   "metadata": {},
   "source": [
    "Galat mutlak"
   ]
  },
  {
   "cell_type": "code",
   "execution_count": 11,
   "metadata": {},
   "outputs": [],
   "source": [
    "def absolute_error(exact, approx):\n",
    "    \"\"\"\n",
    "    Menghitung galat mutlak\n",
    "    exact: nilai eksak\n",
    "    approx: nilai aproksimasi\n",
    "    \"\"\"\n",
    "    return abs(exact - approx)"
   ]
  },
  {
   "cell_type": "markdown",
   "metadata": {},
   "source": [
    "Galat relatif"
   ]
  },
  {
   "cell_type": "code",
   "execution_count": 12,
   "metadata": {},
   "outputs": [],
   "source": [
    "def relative_error(exact, approx):\n",
    "    \"\"\"\n",
    "    Menghitung galat relatif (dalam persen)\n",
    "    exact: nilai eksak\n",
    "    approx: nilai aproksimasi\n",
    "    \"\"\"\n",
    "    return abs((exact - approx) / exact) * 100"
   ]
  },
  {
   "cell_type": "markdown",
   "metadata": {},
   "source": [
    "tingkat kekurangan eksperimental"
   ]
  },
  {
   "cell_type": "code",
   "execution_count": 13,
   "metadata": {},
   "outputs": [],
   "source": [
    "def search_errors(exact, approx):\n",
    "    \"\"\"\n",
    "    Menghitung galat relatif absolut (dalam persen)\n",
    "    exact: nilai eksak\n",
    "    approx: nilai aproksimasi\n",
    "    \"\"\"\n",
    "    return abs((exact - approx) / exact) * 100"
   ]
  },
  {
   "cell_type": "code",
   "execution_count": 14,
   "metadata": {},
   "outputs": [],
   "source": [
    "# import numpy as np\n",
    "# from scipy import integrate\n",
    "\n",
    "# def riemann_left(f, a, b, n):\n",
    "#     dx = (b - a) / n\n",
    "#     x = np.linspace(a, b, n+1)[:-1]\n",
    "#     return np.sum(f(x) * dx)\n",
    "\n",
    "# def trapezoidal_rule(f, a, b, n):\n",
    "#     dx = (b - a) / n\n",
    "#     x = np.linspace(a, b, n+1)\n",
    "#     return (dx / 2) * (f(x[0]) + 2 * np.sum(f(x[1:-1])) + f(x[-1]))\n",
    "\n",
    "# def relative_absolute_error(exact, approx):\n",
    "#     return abs((exact - approx) / exact) * 100\n",
    "\n",
    "# # Meminta input dari pengguna\n",
    "# a = float(input(\"Masukkan batas bawah integral: \"))\n",
    "# b = float(input(\"Masukkan batas atas integral: \"))\n",
    "\n",
    "# # Meminta koefisien fungsi polinomial\n",
    "# coef = []\n",
    "# for i in range(6):\n",
    "#     c = float(input(f\"Masukkan koefisien x^{5-i}: \"))\n",
    "#     coef.append(c)\n",
    "\n",
    "# # Membuat fungsi polinomial berdasarkan input\n",
    "# def f(x):\n",
    "#     return sum(c * x**(5-i) for i, c in enumerate(coef))\n",
    "\n",
    "# # Menghitung nilai eksak menggunakan scipy.integrate\n",
    "# exact_value, _ = integrate.quad(f, a, b)\n",
    "\n",
    "# # Meminta jumlah partisi\n",
    "# n = int(input(\"Masukkan jumlah partisi (bilangan bulat): \"))\n",
    "\n",
    "# # Menghitung dan menampilkan hasil\n",
    "# print(f\"\\nNilai eksak: {exact_value:.6e}\")\n",
    "\n",
    "# print(\"\\nMetode Riemann Kiri:\")\n",
    "# riemann_approx = riemann_left(f, a, b, n)\n",
    "# riemann_error = relative_absolute_error(exact_value, riemann_approx)\n",
    "# print(f\"Nilai Aproksimasi: {riemann_approx:.6e}\")\n",
    "# print(f\"Galat Relatif Absolut: {riemann_error:.6f}%\")\n",
    "\n",
    "# print(\"\\nMetode Aturan Trapesium:\")\n",
    "# trapezoid_approx = trapezoidal_rule(f, a, b, n)\n",
    "# trapezoid_error = relative_absolute_error(exact_value, trapezoid_approx)\n",
    "# print(f\"Nilai Aproksimasi: {trapezoid_approx:.6e}\")\n",
    "# print(f\"Galat Relatif Absolut: {trapezoid_error:.6f}%\")"
   ]
  },
  {
   "cell_type": "code",
   "execution_count": 16,
   "metadata": {},
   "outputs": [
    {
     "name": "stdout",
     "output_type": "stream",
     "text": [
      "\n",
      "Nilai eksak: -1.592720e+05\n",
      "\n",
      "Metode Riemann Kiri:\n",
      "n=1: Nilai Aproksimasi: -1.040000e+02, Galat Relatif Absolut: 99.934703%\n",
      "n=20.5: Nilai Aproksimasi: -1.405243e+05, Galat Relatif Absolut: 11.770886%\n",
      "n=40.3: Nilai Aproksimasi: -1.497347e+05, Galat Relatif Absolut: 5.988054%\n",
      "n=80.7: Nilai Aproksimasi: -1.545214e+05, Galat Relatif Absolut: 2.982723%\n",
      "n=160.9: Nilai Aproksimasi: -1.568720e+05, Galat Relatif Absolut: 1.506883%\n",
      "\n",
      "Metode Aturan Trapesium:\n",
      "n=1: Nilai Aproksimasi: -3.881360e+05, Galat Relatif Absolut: 143.693807%\n",
      "n=20.5: Nilai Aproksimasi: -1.599259e+05, Galat Relatif Absolut: 0.410540%\n",
      "n=40.3: Nilai Aproksimasi: -1.594355e+05, Galat Relatif Absolut: 0.102659%\n",
      "n=80.7: Nilai Aproksimasi: -1.593119e+05, Galat Relatif Absolut: 0.025036%\n",
      "n=160.9: Nilai Aproksimasi: -1.592821e+05, Galat Relatif Absolut: 0.006337%\n"
     ]
    }
   ],
   "source": [
    "import numpy as np\n",
    "from scipy import integrate\n",
    "\n",
    "def riemann_left(f, a, b, n):\n",
    "    n = int(np.round(n))  # Membulatkan partisi desimal ke bilangan bulat\n",
    "    dx = (b - a) / n\n",
    "    x = np.linspace(a, b, n+1)[:-1]\n",
    "    return np.sum(f(x) * dx)\n",
    "\n",
    "def trapezoidal_rule(f, a, b, n):\n",
    "    n = int(np.round(n))  # Membulatkan partisi desimal ke bilangan bulat\n",
    "    dx = (b - a) / n\n",
    "    x = np.linspace(a, b, n+1)\n",
    "    return (dx / 2) * (f(x[0]) + 2 * np.sum(f(x[1:-1])) + f(x[-1]))\n",
    "\n",
    "def relative_absolute_error(exact, approx):\n",
    "    return abs((exact - approx) / exact) * 100\n",
    "\n",
    "# Batas bawah dan atas integral\n",
    "a = 2.0\n",
    "b = 10.0\n",
    "\n",
    "# Koefisien fungsi polinomial: misalnya untuk -x^5 + 3x^3 - 2x - 1\n",
    "coef = [-1, 0, 3, 0, -2, -1]\n",
    "\n",
    "# Membuat fungsi polinomial berdasarkan koefisien\n",
    "def f(x):\n",
    "    return sum(c * x**(5-i) for i, c in enumerate(coef))\n",
    "\n",
    "# Menghitung nilai eksak menggunakan scipy.integrate\n",
    "exact_value, _ = integrate.quad(f, a, b)\n",
    "\n",
    "# Daftar partisi yang bisa berupa desimal\n",
    "partisi = [1, 20.5, 40.3, 80.7, 160.9]\n",
    "\n",
    "# Menampilkan hasil\n",
    "print(f\"\\nNilai eksak: {exact_value:.6e}\")\n",
    "\n",
    "# Menghitung hasil dengan metode Riemann Kiri\n",
    "print(\"\\nMetode Riemann Kiri:\")\n",
    "for n in partisi:\n",
    "    riemann_approx = riemann_left(f, a, b, n)\n",
    "    riemann_error = relative_absolute_error(exact_value, riemann_approx)\n",
    "    print(f\"n={n}: Nilai Aproksimasi: {riemann_approx:.6e}, Galat Relatif Absolut: {riemann_error:.6f}%\")\n",
    "\n",
    "# Menghitung hasil dengan metode Aturan Trapesium\n",
    "print(\"\\nMetode Aturan Trapesium:\")\n",
    "for n in partisi:\n",
    "    trapezoid_approx = trapezoidal_rule(f, a, b, n)\n",
    "    trapezoid_error = relative_absolute_error(exact_value, trapezoid_approx)\n",
    "    print(f\"n={n}: Nilai Aproksimasi: {trapezoid_approx:.6e}, Galat Relatif Absolut: {trapezoid_error:.6f}%\")\n"
   ]
  }
 ],
 "metadata": {
  "kernelspec": {
   "display_name": "base",
   "language": "python",
   "name": "python3"
  },
  "language_info": {
   "codemirror_mode": {
    "name": "ipython",
    "version": 3
   },
   "file_extension": ".py",
   "mimetype": "text/x-python",
   "name": "python",
   "nbconvert_exporter": "python",
   "pygments_lexer": "ipython3",
   "version": "3.12.3"
  }
 },
 "nbformat": 4,
 "nbformat_minor": 2
}
